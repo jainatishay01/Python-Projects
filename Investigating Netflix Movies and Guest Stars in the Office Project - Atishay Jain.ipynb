{
 "cells": [
  {
   "cell_type": "markdown",
   "metadata": {
    "dc": {
     "key": "4"
    },
    "deletable": false,
    "editable": false,
    "run_control": {
     "frozen": true
    },
    "tags": [
     "context"
    ]
   },
   "source": [
    "## 1. Loading your friend's data into a dictionary\n",
    "<p><img src=\"https://assets.datacamp.com/production/project_1237/img/netflix.jpg\" alt=\"Someone's feet on table facing a television\"></p>\n",
    "<p>Netflix! What started in 1997 as a DVD rental service has since exploded into the largest entertainment/media company by <a href=\"https://www.marketwatch.com/story/netflix-shares-close-up-8-for-yet-another-record-high-2020-07-10\">market capitalization</a>, boasting over 200 million subscribers as of <a href=\"https://www.cbsnews.com/news/netflix-tops-200-million-subscribers-but-faces-growing-challenge-from-disney-plus/\">January 2021</a>.</p>\n",
    "<p>Given the large number of movies and series available on the platform, it is a perfect opportunity to flex our data manipulation skills and dive into the entertainment industry. Our friend has also been brushing up on their Python skills and has taken a first crack at a CSV file containing Netflix data. For their first order of business, they have been performing some analyses, and they believe that the average duration of movies has been declining. </p>\n",
    "<p>As evidence of this, they have provided us with the following information. For the years from 2011 to 2020, the average movie durations are 103, 101, 99, 100, 100, 95, 95, 96, 93, and 90, respectively.</p>\n",
    "<p>If we're going to be working with this data, we know a good place to start would be to probably start working with <code>pandas</code>. But first we'll need to create a DataFrame from scratch. Let's start by creating a Python object covered in <a href=\"https://learn.datacamp.com/courses/intermediate-python\">Intermediate Python</a>: a dictionary!</p>"
   ]
  },
  {
   "cell_type": "code",
   "execution_count": 19,
   "metadata": {
    "dc": {
     "key": "4"
    },
    "tags": [
     "sample_code"
    ]
   },
   "outputs": [
    {
     "data": {
      "text/plain": [
       "{'years': [2011, 2012, 2013, 2014, 2015, 2016, 2017, 2018, 2019, 2020],\n",
       " 'durations': [103, 101, 99, 100, 100, 95, 95, 96, 93, 90]}"
      ]
     },
     "execution_count": 19,
     "metadata": {},
     "output_type": "execute_result"
    }
   ],
   "source": [
    "# Create the years and durations lists\n",
    "years = [2011, 2012, 2013, 2014, 2015, 2016, 2017, 2018, 2019, 2020]\n",
    "durations = [103, 101, 99, 100, 100, 95, 95, 96, 93, 90]\n",
    "\n",
    "# Create a dictionary with the two lists\n",
    "movie_dict = {\"years\": years, \"durations\": durations}\n",
    "\n",
    "# Print the dictionary\n",
    "movie_dict"
   ]
  },
  {
   "cell_type": "markdown",
   "metadata": {
    "dc": {
     "key": "11"
    },
    "deletable": false,
    "editable": false,
    "run_control": {
     "frozen": true
    },
    "tags": [
     "context"
    ]
   },
   "source": [
    "## 2. Creating a DataFrame from a dictionary\n",
    "<p>To convert our dictionary <code>movie_dict</code> to a <code>pandas</code> DataFrame, we will first need to import the library under its usual alias. We'll also want to inspect our DataFrame to ensure it was created correctly. Let's perform these steps now.</p>"
   ]
  },
  {
   "cell_type": "code",
   "execution_count": 21,
   "metadata": {
    "dc": {
     "key": "11"
    },
    "tags": [
     "sample_code"
    ]
   },
   "outputs": [
    {
     "name": "stdout",
     "output_type": "stream",
     "text": [
      "   years  durations\n",
      "0   2011        103\n",
      "1   2012        101\n",
      "2   2013         99\n",
      "3   2014        100\n",
      "4   2015        100\n",
      "5   2016         95\n",
      "6   2017         95\n",
      "7   2018         96\n",
      "8   2019         93\n",
      "9   2020         90\n"
     ]
    }
   ],
   "source": [
    "# Import pandas under its usual alias\n",
    "import pandas as pd \n",
    "\n",
    "# Create a DataFrame from the dictionary\n",
    "durations_df = pd.DataFrame(movie_dict)\n",
    "\n",
    "# Print the DataFrame\n",
    "print(durations_df)"
   ]
  },
  {
   "cell_type": "markdown",
   "metadata": {
    "dc": {
     "key": "18"
    },
    "deletable": false,
    "editable": false,
    "run_control": {
     "frozen": true
    },
    "tags": [
     "context"
    ]
   },
   "source": [
    "## 3. A visual inspection of our data\n",
    "<p>Alright, we now have a <code>pandas</code> DataFrame, the most common way to work with tabular data in Python. Now back to the task at hand. We want to follow up on our friend's assertion that movie lengths have been decreasing over time. A great place to start will be a visualization of the data.</p>\n",
    "<p>Given that the data is continuous, a line plot would be a good choice, with the dates represented along the x-axis and the average length in minutes along the y-axis. This will allow us to easily spot any trends in movie durations. There are many ways to visualize data in Python, but <code>matploblib.pyplot</code> is one of the most common packages to do so.</p>\n",
    "<p><em>Note: In order for us to correctly test your plot, you will need to initalize a <code>matplotlib.pyplot</code> Figure object, which we have already provided in the cell below. You can continue to create your plot as you have learned in Intermediate Python.</em></p>"
   ]
  },
  {
   "cell_type": "code",
   "execution_count": 23,
   "metadata": {
    "dc": {
     "key": "18"
    },
    "tags": [
     "sample_code"
    ]
   },
   "outputs": [
    {
     "data": {
      "image/png": "[encoded data removed]",
      "text/plain": [
       "<Figure size 432x288 with 1 Axes>"
      ]
     },
     "metadata": {},
     "output_type": "display_data"
    }
   ],
   "source": [
    "# Import matplotlib.pyplot under its usual alias and create a figure\n",
    "import matplotlib.pyplot as plt \n",
    "fig = plt.figure()\n",
    "\n",
    "# Draw a line plot of release_years and durations\n",
    "plt.plot(durations_df['years'], durations_df['durations'])\n",
    "\n",
    "# Create a title\n",
    "plt.title(\"Netflix Movie Durations 2011-2020\")\n",
    "\n",
    "# Show the plot\n",
    "plt.grid(axis='x')\n",
    "plt.show()"
   ]
  },
  {
   "cell_type": "markdown",
   "metadata": {
    "dc": {
     "key": "25"
    },
    "deletable": false,
    "editable": false,
    "run_control": {
     "frozen": true
    },
    "tags": [
     "context"
    ]
   },
   "source": [
    "## 4. Loading the rest of the data from a CSV\n",
    "<p>Well, it looks like there is something to the idea that movie lengths have decreased over the past ten years! But equipped only with our friend's aggregations, we're limited in the further explorations we can perform. There are a few questions about this trend that we are currently unable to answer, including:</p>\n",
    "<ol>\n",
    "<li>What does this trend look like over a longer period of time?</li>\n",
    "<li>Is this explainable by something like the genre of entertainment?</li>\n",
    "</ol>\n",
    "<p>Upon asking our friend for the original CSV they used to perform their analyses, they gladly oblige and send it. We now have access to the CSV file, available at the path <code>\"datasets/netflix_data.csv\"</code>. Let's create another DataFrame, this time with all of the data. Given the length of our friend's data, printing the whole DataFrame is probably not a good idea, so we will inspect it by printing only the first five rows.</p>"
   ]
  },
  {
   "cell_type": "code",
   "execution_count": 29,
   "metadata": {
    "dc": {
     "key": "25"
    },
    "tags": [
     "sample_code"
    ]
   },
   "outputs": [
    {
     "name": "stdout",
     "output_type": "stream",
     "text": [
      "  show_id     type  title           director  \\\n",
      "0      s1  TV Show     3%                NaN   \n",
      "1      s2    Movie   7:19  Jorge Michel Grau   \n",
      "2      s3    Movie  23:59       Gilbert Chan   \n",
      "3      s4    Movie      9        Shane Acker   \n",
      "4      s5    Movie     21     Robert Luketic   \n",
      "\n",
      "                                                cast        country  \\\n",
      "0  João Miguel, Bianca Comparato, Michel Gomes, R...         Brazil   \n",
      "1  Demián Bichir, Héctor Bonilla, Oscar Serrano, ...         Mexico   \n",
      "2  Tedd Chan, Stella Chung, Henley Hii, Lawrence ...      Singapore   \n",
      "3  Elijah Wood, John C. Reilly, Jennifer Connelly...  United States   \n",
      "4  Jim Sturgess, Kevin Spacey, Kate Bosworth, Aar...  United States   \n",
      "\n",
      "          date_added  release_year  duration  \\\n",
      "0    August 14, 2020          2020         4   \n",
      "1  December 23, 2016          2016        93   \n",
      "2  December 20, 2018          2011        78   \n",
      "3  November 16, 2017          2009        80   \n",
      "4    January 1, 2020          2008       123   \n",
      "\n",
      "                                         description             genre  \n",
      "0  In a future where the elite inhabit an island ...  International TV  \n",
      "1  After a devastating earthquake hits Mexico Cit...            Dramas  \n",
      "2  When an army recruit is found dead, his fellow...     Horror Movies  \n",
      "3  In a postapocalyptic world, rag-doll robots hi...            Action  \n",
      "4  A brilliant group of students become card-coun...            Dramas  \n"
     ]
    }
   ],
   "source": [
    "# Read in the CSV as a DataFrame\n",
    "netflix_df = pd.read_csv(\"datasets/netflix_data.csv\")\n",
    "\n",
    "# Print the first five rows of the DataFrame\n",
    "print(netflix_df.head())"
   ]
  },
  {
   "cell_type": "markdown",
   "metadata": {
    "dc": {
     "key": "32"
    },
    "deletable": false,
    "editable": false,
    "run_control": {
     "frozen": true
    },
    "tags": [
     "context"
    ]
   },
   "source": [
    "## 5. Filtering for movies!\n",
    "<p>Okay, we have our data! Now we can dive in and start looking at movie lengths. </p>\n",
    "<p>Or can we? Looking at the first five rows of our new DataFrame, we notice a column <code>type</code>. Scanning the column, it's clear there are also TV shows in the dataset! Moreover, the <code>duration</code> column we planned to use seems to represent different values depending on whether the row is a movie or a show (perhaps the number of minutes versus the number of seasons)?</p>\n",
    "<p>Fortunately, a DataFrame allows us to filter data quickly, and we can select rows where <code>type</code> is <code>Movie</code>. While we're at it, we don't need information from all of the columns, so let's create a new DataFrame <code>netflix_movies</code> containing only <code>title</code>, <code>country</code>, <code>genre</code>, <code>release_year</code>, and <code>duration</code>.</p>\n",
    "<p>Let's put our data subsetting skills to work!</p>"
   ]
  },
  {
   "cell_type": "code",
   "execution_count": 27,
   "metadata": {
    "dc": {
     "key": "32"
    },
    "tags": [
     "sample_code"
    ]
   },
   "outputs": [
    {
     "name": "stdout",
     "output_type": "stream",
     "text": [
      "         title        country          genre  release_year  duration\n",
      "show_id                                                             \n",
      "s2        7:19         Mexico         Dramas          2016        93\n",
      "s3       23:59      Singapore  Horror Movies          2011        78\n",
      "s4           9  United States         Action          2009        80\n",
      "s5          21  United States         Dramas          2008       123\n",
      "s7         122          Egypt  Horror Movies          2019        95\n"
     ]
    }
   ],
   "source": [
    "# Subset the DataFrame for type \"Movie\"\n",
    "netflix_df_movies_only = netflix_df[netflix_df.type == \"Movie\"]\n",
    "\n",
    "# Select only the columns of interest\n",
    "netflix_movies_col_subset = netflix_df_movies_only[[\"title\", \"country\", \"genre\",\"release_year\", \"duration\"]]\n",
    "\n",
    "# Print the first five rows of the new DataFrame\n",
    "print(netflix_movies_col_subset.head())"
   ]
  },
  {
   "cell_type": "markdown",
   "metadata": {
    "dc": {
     "key": "39"
    },
    "deletable": false,
    "editable": false,
    "run_control": {
     "frozen": true
    },
    "tags": [
     "context"
    ]
   },
   "source": [
    "## 6. Creating a scatter plot\n",
    "<p>Okay, now we're getting somewhere. We've read in the raw data, selected rows of movies, and have limited our DataFrame to our columns of interest. Let's try visualizing the data again to inspect the data over a longer range of time.</p>\n",
    "<p>This time, we are no longer working with aggregates but instead with individual movies. A line plot is no longer a good choice for our data, so let's try a scatter plot instead. We will again plot the year of release on the x-axis and the movie duration on the y-axis.</p>\n",
    "<p><em>Note: Although not taught in Intermediate Python, we have provided you the code <code>fig = plt.figure(figsize=(12,8))</code> to increase the size of the plot (to help you see the results), as well as to assist with testing. For more information on how to create or work with a <code>matplotlib</code> <code>figure</code>, refer to the <a href=\"https://matplotlib.org/stable/api/_as_gen/matplotlib.pyplot.figure.html\">documentation</a>.</em></p>"
   ]
  },
  {
   "cell_type": "code",
   "execution_count": null,
   "metadata": {
    "dc": {
     "key": "39"
    },
    "tags": [
     "sample_code"
    ]
   },
   "outputs": [],
   "source": [
    "# Create a figure and increase the figure size\n",
    "fig = plt.figure(figsize=(12,8))\n",
    "\n",
    "# Create a scatter plot of duration versus year\n",
    "plt.scatter(netflix_movies_col_subset.release_year, netflix_movies_col_subset.duration)\n",
    "\n",
    "# Create a title\n",
    "plt.title(\"Movie Duration by Year of Release\")\n",
    "\n",
    "# Show the plot\n",
    "plt.show()"
   ]
  },
  {
   "cell_type": "markdown",
   "metadata": {
    "dc": {
     "key": "46"
    },
    "deletable": false,
    "editable": false,
    "run_control": {
     "frozen": true
    },
    "tags": [
     "context"
    ]
   },
   "source": [
    "## 7. Digging deeper\n",
    "<p>This is already much more informative than the simple plot we created when our friend first gave us some data. We can also see that, while newer movies are overrepresented on the platform, many short movies have been released in the past two decades.</p>\n",
    "<p>Upon further inspection, something else is going on. Some of these films are under an hour long! Let's filter our DataFrame for movies with a <code>duration</code> under 60 minutes and look at the genres. This might give us some insight into what is dragging down the average.</p>"
   ]
  },
  {
   "cell_type": "code",
   "execution_count": null,
   "metadata": {
    "dc": {
     "key": "46"
    },
    "tags": [
     "sample_code"
    ]
   },
   "outputs": [],
   "source": [
    "# Filter for durations shorter than 60 minutes\n",
    "short_movies = netflix_movies_col_subset[netflix_movies_col_subset.duration < 60]\n",
    "\n",
    "# Print the first 20 rows of short_movies\n",
    "print(short_movies.head(20))"
   ]
  },
  {
   "cell_type": "markdown",
   "metadata": {
    "dc": {
     "key": "53"
    },
    "deletable": false,
    "editable": false,
    "run_control": {
     "frozen": true
    },
    "tags": [
     "context"
    ]
   },
   "source": [
    "## 8. Marking non-feature films\n",
    "<p>Interesting! It looks as though many of the films that are under 60 minutes fall into genres such as \"Children\", \"Stand-Up\", and \"Documentaries\". This is a logical result, as these types of films are probably often shorter than 90 minute Hollywood blockbuster. </p>\n",
    "<p>We could eliminate these rows from our DataFrame and plot the values again. But another interesting way to explore the effect of these genres on our data would be to plot them, but mark them with a different color.</p>\n",
    "<p>In Python, there are many ways to do this, but one fun way might be to use a loop to generate a list of colors based on the contents of the <code>genre</code> column. Much as we did in Intermediate Python, we can then pass this list to our plotting function in a later step to color all non-typical genres in a different color!</p>\n",
    "<p><em>Note: Although we are using the basic colors of red, blue, green, and black, <code>matplotlib</code> has many named colors you can use when creating plots. For more information, you can refer to the documentation <a href=\"https://matplotlib.org/stable/gallery/color/named_colors.html\">here</a>!</em></p>"
   ]
  },
  {
   "cell_type": "code",
   "execution_count": null,
   "metadata": {
    "dc": {
     "key": "53"
    },
    "tags": [
     "sample_code"
    ]
   },
   "outputs": [],
   "source": [
    "# Define an empty list\n",
    "colors = []\n",
    "\n",
    "# Iterate over rows of netflix_movies_col_subset\n",
    "for index, row in netflix_movies_col_subset.iterrows():\n",
    "    if row[\"genre\"] == \"Children\":\n",
    "        colors.append(\"red\")\n",
    "    elif row[\"genre\"] == \"Documentaries\":\n",
    "        colors.append(\"blue\")\n",
    "    elif row[\"genre\"] == \"Stand-Up\":\n",
    "        colors.append(\"green\")\n",
    "    else:\n",
    "        colors.append(\"black\")\n",
    "        \n",
    "# Inspect the first 10 values in your list        \n",
    "print(colors[:10])"
   ]
  },
  {
   "cell_type": "markdown",
   "metadata": {
    "dc": {
     "key": "60"
    },
    "deletable": false,
    "editable": false,
    "run_control": {
     "frozen": true
    },
    "tags": [
     "context"
    ]
   },
   "source": [
    "## 9. Plotting with color!\n",
    "<p>Lovely looping! We now have a <code>colors</code> list that we can pass to our scatter plot, which should allow us to visually inspect whether these genres might be responsible for the decline in the average duration of movies.</p>\n",
    "<p>This time, we'll also spruce up our plot with some additional axis labels and a new theme with <code>plt.style.use()</code>. The latter isn't taught in Intermediate Python, but can be a fun way to add some visual flair to a basic <code>matplotlib</code> plot. You can find more information on customizing the style of your plot <a href=\"https://matplotlib.org/stable/tutorials/introductory/customizing.html\">here</a>!</p>"
   ]
  },
  {
   "cell_type": "code",
   "execution_count": null,
   "metadata": {
    "dc": {
     "key": "60"
    },
    "tags": [
     "sample_code"
    ]
   },
   "outputs": [],
   "source": [
    "# Set the figure style and initalize a new figure\n",
    "plt.style.use('fivethirtyeight')\n",
    "fig = plt.figure(figsize=(12,8))\n",
    "\n",
    "# Create a scatter plot of duration versus release_year\n",
    "plt.scatter(netflix_movies_col_subset.release_year, netflix_movies_col_subset.duration, c=colors, marker='o')\n",
    "\n",
    "# Create a title and axis labels\n",
    "plt.title(\"Movie duration by year of release\")\n",
    "plt.xlabel(\"Release Year\")\n",
    "plt.ylabel(\"Duration (min)\")\n",
    "\n",
    "# Show the plot\n",
    "plt.show()"
   ]
  },
  {
   "cell_type": "markdown",
   "metadata": {
    "dc": {
     "key": "67"
    },
    "deletable": false,
    "editable": false,
    "run_control": {
     "frozen": true
    },
    "tags": [
     "context"
    ]
   },
   "source": [
    "## 10. What next?\n",
    "<p>Well, as we suspected, non-typical genres such as children's movies and documentaries are all clustered around the bottom half of the plot. But we can't know for certain until we perform additional analyses. </p>\n",
    "<p>Congratulations, you've performed an exploratory analysis of some entertainment data, and there are lots of fun ways to develop your skills as a Pythonic data scientist. These include learning how to analyze data further with statistics, creating more advanced visualizations, and perhaps most importantly, learning more advanced ways of working with data in <code>pandas</code>. This latter skill is covered in our fantastic course <a href=\"www.datacamp.com/courses/data-manipulation-with-pandas\">Data Manipulation with pandas</a>.</p>\n",
    "<p>We hope you enjoyed this application of the skills learned in Intermediate Python, and wish you all the best on the rest of your journey!</p>"
   ]
  },
  {
   "cell_type": "code",
   "execution_count": null,
   "metadata": {
    "dc": {
     "key": "67"
    },
    "tags": [
     "sample_code"
    ]
   },
   "outputs": [],
   "source": [
    "# Are we certain that movies are getting shorter?\n",
    "are_movies_getting_shorter = \"No we aren't\"\n",
    "print(are_movies_getting_shorter)"
   ]
  }
 ],
 "metadata": {
  "kernelspec": {
   "display_name": "Python 3 (ipykernel)",
   "language": "python",
   "name": "python3"
  },
  "language_info": {
   "codemirror_mode": {
    "name": "ipython",
    "version": 3
   },
   "file_extension": ".py",
   "mimetype": "text/x-python",
   "name": "python",
   "nbconvert_exporter": "python",
   "pygments_lexer": "ipython3",
   "version": "3.9.13"
  }
 },
 "nbformat": 4,
 "nbformat_minor": 2
}
